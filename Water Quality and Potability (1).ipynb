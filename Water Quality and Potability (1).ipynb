{
 "cells": [
  {
   "cell_type": "markdown",
   "id": "3a59a288",
   "metadata": {},
   "source": [
    "## GOAL"
   ]
  },
  {
   "cell_type": "markdown",
   "id": "b8016864",
   "metadata": {},
   "source": [
    "Access to safe drinking water is essential to health. Our goal of collecting a dataset on water quality and portability is to gather information on how to classify that the water is potable and safe for human consumption or not based on 12 parameters measurements. To make informed decisions about water treatment, and ensuring compliance with water quality standards With the help of the specified water quality attributes, machine learning models may be trained to estimate water potability using this dataset, which is acceptable for a supervised binary classification problem. the models aim to classify samples as portable (1) or not portable (0) ."
   ]
  },
  {
   "cell_type": "markdown",
   "id": "a7d1dfb1",
   "metadata": {},
   "source": [
    "Class Label: Potability indicates water potability with values 1 (potable) and 0 (not potable)."
   ]
  },
  {
   "cell_type": "markdown",
   "id": "031538cf",
   "metadata": {},
   "source": [
    "Source of the dataset:Kaggle link of the dataset:\n",
    "https://www.kaggle.com/datasets/uom190346a/water-quality-and-potabilit"
   ]
  },
  {
   "cell_type": "markdown",
   "id": "b9676c1a",
   "metadata": {},
   "source": [
    "|Attributes     |Description                 |Data Type|Possible Values|\n",
    "|---------------|-----------------------------|---------|---------------|\n",
    "|ph             |pH level of water.           |decimal  | 0-14          |\n",
    "|Hardness       |Water hardness in water      |decimal  | 47.4-323      |\n",
    "|Solids         |dissolved,solids in water    |decimal  | 321-61.2k     |\n",
    "|Chloramines    |Chloramines concentration    |decimal  | 0.35-13.1     |\n",
    "|Sulfate        |Sulfate concentration        |decimal  | 129-481       |\n",
    "|Conductivity   |Electrical conductivity      |decimal  | 181-753       |\n",
    "|Organic_carbon |Organic carbon content       |decimal  | 2.2-28.3      |\n",
    "|Trihalomethanes|Trihalomethanes concentration|decimal  | 0.74.124      |\n",
    "|Turbidity      |Turbidity level              |decimal  | 1.45-6.74     |\n",
    "|Potability     |indicates water potability   |boolean  | 0-1           |"
   ]
  },
  {
   "cell_type": "code",
   "execution_count": null,
   "id": "145836aa",
   "metadata": {},
   "outputs": [],
   "source": []
  }
 ],
 "metadata": {
  "kernelspec": {
   "display_name": "R",
   "language": "R",
   "name": "ir"
  },
  "language_info": {
   "codemirror_mode": "r",
   "file_extension": ".r",
   "mimetype": "text/x-r-source",
   "name": "R",
   "pygments_lexer": "r",
   "version": "3.6.1"
  }
 },
 "nbformat": 4,
 "nbformat_minor": 5
}
